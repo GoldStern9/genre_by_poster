{
 "cells": [
  {
   "cell_type": "markdown",
   "id": "accepting-coast",
   "metadata": {},
   "source": [
    "### So, before we start to work with images, let's overview our data."
   ]
  },
  {
   "cell_type": "code",
   "execution_count": 1,
   "id": "sized-bible",
   "metadata": {},
   "outputs": [],
   "source": [
    "import os\n",
    "import numpy as np\n",
    "import pandas as pd\n",
    "import seaborn as sns\n",
    "from matplotlib import pyplot as plt"
   ]
  },
  {
   "cell_type": "markdown",
   "id": "ranking-reading",
   "metadata": {},
   "source": [
    "Read data"
   ]
  },
  {
   "cell_type": "code",
   "execution_count": 2,
   "id": "developing-railway",
   "metadata": {},
   "outputs": [
    {
     "data": {
      "text/html": [
       "<div>\n",
       "<style scoped>\n",
       "    .dataframe tbody tr th:only-of-type {\n",
       "        vertical-align: middle;\n",
       "    }\n",
       "\n",
       "    .dataframe tbody tr th {\n",
       "        vertical-align: top;\n",
       "    }\n",
       "\n",
       "    .dataframe thead th {\n",
       "        text-align: right;\n",
       "    }\n",
       "</style>\n",
       "<table border=\"1\" class=\"dataframe\">\n",
       "  <thead>\n",
       "    <tr style=\"text-align: right;\">\n",
       "      <th></th>\n",
       "      <th>Id</th>\n",
       "      <th>Genre</th>\n",
       "      <th>Action</th>\n",
       "      <th>Adventure</th>\n",
       "      <th>Animation</th>\n",
       "      <th>Biography</th>\n",
       "      <th>Comedy</th>\n",
       "      <th>Crime</th>\n",
       "      <th>Documentary</th>\n",
       "      <th>Drama</th>\n",
       "      <th>...</th>\n",
       "      <th>N/A</th>\n",
       "      <th>News</th>\n",
       "      <th>Reality-TV</th>\n",
       "      <th>Romance</th>\n",
       "      <th>Sci-Fi</th>\n",
       "      <th>Short</th>\n",
       "      <th>Sport</th>\n",
       "      <th>Thriller</th>\n",
       "      <th>War</th>\n",
       "      <th>Western</th>\n",
       "    </tr>\n",
       "  </thead>\n",
       "  <tbody>\n",
       "    <tr>\n",
       "      <th>0</th>\n",
       "      <td>tt0086425</td>\n",
       "      <td>['Comedy', 'Drama']</td>\n",
       "      <td>0</td>\n",
       "      <td>0</td>\n",
       "      <td>0</td>\n",
       "      <td>0</td>\n",
       "      <td>1</td>\n",
       "      <td>0</td>\n",
       "      <td>0</td>\n",
       "      <td>1</td>\n",
       "      <td>...</td>\n",
       "      <td>0</td>\n",
       "      <td>0</td>\n",
       "      <td>0</td>\n",
       "      <td>0</td>\n",
       "      <td>0</td>\n",
       "      <td>0</td>\n",
       "      <td>0</td>\n",
       "      <td>0</td>\n",
       "      <td>0</td>\n",
       "      <td>0</td>\n",
       "    </tr>\n",
       "    <tr>\n",
       "      <th>1</th>\n",
       "      <td>tt0085549</td>\n",
       "      <td>['Drama', 'Romance', 'Music']</td>\n",
       "      <td>0</td>\n",
       "      <td>0</td>\n",
       "      <td>0</td>\n",
       "      <td>0</td>\n",
       "      <td>0</td>\n",
       "      <td>0</td>\n",
       "      <td>0</td>\n",
       "      <td>1</td>\n",
       "      <td>...</td>\n",
       "      <td>0</td>\n",
       "      <td>0</td>\n",
       "      <td>0</td>\n",
       "      <td>1</td>\n",
       "      <td>0</td>\n",
       "      <td>0</td>\n",
       "      <td>0</td>\n",
       "      <td>0</td>\n",
       "      <td>0</td>\n",
       "      <td>0</td>\n",
       "    </tr>\n",
       "    <tr>\n",
       "      <th>2</th>\n",
       "      <td>tt0086465</td>\n",
       "      <td>['Comedy']</td>\n",
       "      <td>0</td>\n",
       "      <td>0</td>\n",
       "      <td>0</td>\n",
       "      <td>0</td>\n",
       "      <td>1</td>\n",
       "      <td>0</td>\n",
       "      <td>0</td>\n",
       "      <td>0</td>\n",
       "      <td>...</td>\n",
       "      <td>0</td>\n",
       "      <td>0</td>\n",
       "      <td>0</td>\n",
       "      <td>0</td>\n",
       "      <td>0</td>\n",
       "      <td>0</td>\n",
       "      <td>0</td>\n",
       "      <td>0</td>\n",
       "      <td>0</td>\n",
       "      <td>0</td>\n",
       "    </tr>\n",
       "    <tr>\n",
       "      <th>3</th>\n",
       "      <td>tt0086567</td>\n",
       "      <td>['Sci-Fi', 'Thriller']</td>\n",
       "      <td>0</td>\n",
       "      <td>0</td>\n",
       "      <td>0</td>\n",
       "      <td>0</td>\n",
       "      <td>0</td>\n",
       "      <td>0</td>\n",
       "      <td>0</td>\n",
       "      <td>0</td>\n",
       "      <td>...</td>\n",
       "      <td>0</td>\n",
       "      <td>0</td>\n",
       "      <td>0</td>\n",
       "      <td>0</td>\n",
       "      <td>1</td>\n",
       "      <td>0</td>\n",
       "      <td>0</td>\n",
       "      <td>1</td>\n",
       "      <td>0</td>\n",
       "      <td>0</td>\n",
       "    </tr>\n",
       "    <tr>\n",
       "      <th>4</th>\n",
       "      <td>tt0086034</td>\n",
       "      <td>['Action', 'Adventure', 'Thriller']</td>\n",
       "      <td>1</td>\n",
       "      <td>1</td>\n",
       "      <td>0</td>\n",
       "      <td>0</td>\n",
       "      <td>0</td>\n",
       "      <td>0</td>\n",
       "      <td>0</td>\n",
       "      <td>0</td>\n",
       "      <td>...</td>\n",
       "      <td>0</td>\n",
       "      <td>0</td>\n",
       "      <td>0</td>\n",
       "      <td>0</td>\n",
       "      <td>0</td>\n",
       "      <td>0</td>\n",
       "      <td>0</td>\n",
       "      <td>1</td>\n",
       "      <td>0</td>\n",
       "      <td>0</td>\n",
       "    </tr>\n",
       "  </tbody>\n",
       "</table>\n",
       "<p>5 rows × 27 columns</p>\n",
       "</div>"
      ],
      "text/plain": [
       "          Id                                Genre  Action  Adventure  \\\n",
       "0  tt0086425                  ['Comedy', 'Drama']       0          0   \n",
       "1  tt0085549        ['Drama', 'Romance', 'Music']       0          0   \n",
       "2  tt0086465                           ['Comedy']       0          0   \n",
       "3  tt0086567               ['Sci-Fi', 'Thriller']       0          0   \n",
       "4  tt0086034  ['Action', 'Adventure', 'Thriller']       1          1   \n",
       "\n",
       "   Animation  Biography  Comedy  Crime  Documentary  Drama  ...  N/A  News  \\\n",
       "0          0          0       1      0            0      1  ...    0     0   \n",
       "1          0          0       0      0            0      1  ...    0     0   \n",
       "2          0          0       1      0            0      0  ...    0     0   \n",
       "3          0          0       0      0            0      0  ...    0     0   \n",
       "4          0          0       0      0            0      0  ...    0     0   \n",
       "\n",
       "   Reality-TV  Romance  Sci-Fi  Short  Sport  Thriller  War  Western  \n",
       "0           0        0       0      0      0         0    0        0  \n",
       "1           0        1       0      0      0         0    0        0  \n",
       "2           0        0       0      0      0         0    0        0  \n",
       "3           0        0       1      0      0         1    0        0  \n",
       "4           0        0       0      0      0         1    0        0  \n",
       "\n",
       "[5 rows x 27 columns]"
      ]
     },
     "execution_count": 2,
     "metadata": {},
     "output_type": "execute_result"
    }
   ],
   "source": [
    "df = pd.read_csv('../data/train.csv')\n",
    "df.head(5)"
   ]
  },
  {
   "cell_type": "code",
   "execution_count": 3,
   "id": "roman-ultimate",
   "metadata": {},
   "outputs": [
    {
     "name": "stdout",
     "output_type": "stream",
     "text": [
      "<class 'pandas.core.frame.DataFrame'>\n",
      "RangeIndex: 7254 entries, 0 to 7253\n",
      "Data columns (total 27 columns):\n",
      " #   Column       Non-Null Count  Dtype \n",
      "---  ------       --------------  ----- \n",
      " 0   Id           7254 non-null   object\n",
      " 1   Genre        7254 non-null   object\n",
      " 2   Action       7254 non-null   int64 \n",
      " 3   Adventure    7254 non-null   int64 \n",
      " 4   Animation    7254 non-null   int64 \n",
      " 5   Biography    7254 non-null   int64 \n",
      " 6   Comedy       7254 non-null   int64 \n",
      " 7   Crime        7254 non-null   int64 \n",
      " 8   Documentary  7254 non-null   int64 \n",
      " 9   Drama        7254 non-null   int64 \n",
      " 10  Family       7254 non-null   int64 \n",
      " 11  Fantasy      7254 non-null   int64 \n",
      " 12  History      7254 non-null   int64 \n",
      " 13  Horror       7254 non-null   int64 \n",
      " 14  Music        7254 non-null   int64 \n",
      " 15  Musical      7254 non-null   int64 \n",
      " 16  Mystery      7254 non-null   int64 \n",
      " 17  N/A          7254 non-null   int64 \n",
      " 18  News         7254 non-null   int64 \n",
      " 19  Reality-TV   7254 non-null   int64 \n",
      " 20  Romance      7254 non-null   int64 \n",
      " 21  Sci-Fi       7254 non-null   int64 \n",
      " 22  Short        7254 non-null   int64 \n",
      " 23  Sport        7254 non-null   int64 \n",
      " 24  Thriller     7254 non-null   int64 \n",
      " 25  War          7254 non-null   int64 \n",
      " 26  Western      7254 non-null   int64 \n",
      "dtypes: int64(25), object(2)\n",
      "memory usage: 1.5+ MB\n"
     ]
    }
   ],
   "source": [
    "df.info()"
   ]
  },
  {
   "cell_type": "code",
   "execution_count": 4,
   "id": "liable-luxembourg",
   "metadata": {},
   "outputs": [
    {
     "data": {
      "text/plain": [
       "(7254, 27)"
      ]
     },
     "execution_count": 4,
     "metadata": {},
     "output_type": "execute_result"
    }
   ],
   "source": [
    "np.shape(df)"
   ]
  },
  {
   "cell_type": "markdown",
   "id": "still-pickup",
   "metadata": {},
   "source": [
    "### Check for empty values"
   ]
  },
  {
   "cell_type": "code",
   "execution_count": 5,
   "id": "veterinary-clinton",
   "metadata": {},
   "outputs": [
    {
     "data": {
      "text/plain": [
       "Id             0\n",
       "Genre          0\n",
       "Action         0\n",
       "Adventure      0\n",
       "Animation      0\n",
       "Biography      0\n",
       "Comedy         0\n",
       "Crime          0\n",
       "Documentary    0\n",
       "Drama          0\n",
       "Family         0\n",
       "Fantasy        0\n",
       "History        0\n",
       "Horror         0\n",
       "Music          0\n",
       "Musical        0\n",
       "Mystery        0\n",
       "N/A            0\n",
       "News           0\n",
       "Reality-TV     0\n",
       "Romance        0\n",
       "Sci-Fi         0\n",
       "Short          0\n",
       "Sport          0\n",
       "Thriller       0\n",
       "War            0\n",
       "Western        0\n",
       "dtype: int64"
      ]
     },
     "execution_count": 5,
     "metadata": {},
     "output_type": "execute_result"
    }
   ],
   "source": [
    "df.isna().sum()"
   ]
  },
  {
   "cell_type": "markdown",
   "id": "crude-irish",
   "metadata": {},
   "source": [
    "### Check for duplicates"
   ]
  },
  {
   "cell_type": "code",
   "execution_count": 6,
   "id": "thorough-question",
   "metadata": {},
   "outputs": [
    {
     "data": {
      "text/plain": [
       "(24, 27)"
      ]
     },
     "execution_count": 6,
     "metadata": {},
     "output_type": "execute_result"
    }
   ],
   "source": [
    "np.shape(df[df.duplicated(keep=False)])"
   ]
  },
  {
   "cell_type": "markdown",
   "id": "faced-chuck",
   "metadata": {},
   "source": [
    "Drop them"
   ]
  },
  {
   "cell_type": "code",
   "execution_count": 7,
   "id": "educational-cherry",
   "metadata": {},
   "outputs": [],
   "source": [
    "df.drop_duplicates(inplace = True)"
   ]
  },
  {
   "cell_type": "code",
   "execution_count": 8,
   "id": "varied-badge",
   "metadata": {},
   "outputs": [
    {
     "data": {
      "text/plain": [
       "(7242, 27)"
      ]
     },
     "execution_count": 8,
     "metadata": {},
     "output_type": "execute_result"
    }
   ],
   "source": [
    "np.shape(df)"
   ]
  },
  {
   "cell_type": "markdown",
   "id": "educational-pearl",
   "metadata": {},
   "source": [
    "### Check for nonsensical or rarely presented columns"
   ]
  },
  {
   "cell_type": "code",
   "execution_count": 9,
   "id": "legendary-acrylic",
   "metadata": {},
   "outputs": [],
   "source": [
    "features = list(\n",
    "    set(df.columns)\n",
    "    - {\n",
    "        \"Id\",\n",
    "        \"Genre\",\n",
    "    }\n",
    ")"
   ]
  },
  {
   "cell_type": "code",
   "execution_count": 10,
   "id": "integrated-imaging",
   "metadata": {},
   "outputs": [],
   "source": [
    "from collections import OrderedDict"
   ]
  },
  {
   "cell_type": "code",
   "execution_count": 11,
   "id": "permanent-november",
   "metadata": {},
   "outputs": [],
   "source": [
    "def get_features_and_count(features, df):\n",
    "    d = dict.fromkeys(features, 0)\n",
    "    for g in features:\n",
    "        d[g] = sum(df[g].tolist())\n",
    "    d = OrderedDict(sorted(d.items(), key=lambda kv: kv[1], reverse=True))\n",
    "    return d"
   ]
  },
  {
   "cell_type": "code",
   "execution_count": 12,
   "id": "affecting-efficiency",
   "metadata": {},
   "outputs": [],
   "source": [
    "g_and_count = get_features_and_count(features,df)"
   ]
  },
  {
   "cell_type": "code",
   "execution_count": 13,
   "id": "controlled-cardiff",
   "metadata": {},
   "outputs": [
    {
     "data": {
      "text/plain": [
       "OrderedDict([('Drama', 3617),\n",
       "             ('Comedy', 2895),\n",
       "             ('Action', 1339),\n",
       "             ('Romance', 1331),\n",
       "             ('Crime', 1175),\n",
       "             ('Thriller', 916),\n",
       "             ('Adventure', 868),\n",
       "             ('Documentary', 650),\n",
       "             ('Horror', 502),\n",
       "             ('Fantasy', 467),\n",
       "             ('Mystery', 453),\n",
       "             ('Biography', 441),\n",
       "             ('Family', 434),\n",
       "             ('Sci-Fi', 397),\n",
       "             ('Music', 304),\n",
       "             ('Animation', 244),\n",
       "             ('History', 224),\n",
       "             ('Sport', 219),\n",
       "             ('War', 144),\n",
       "             ('Musical', 97),\n",
       "             ('Western', 50),\n",
       "             ('Short', 46),\n",
       "             ('News', 21),\n",
       "             ('N/A', 9),\n",
       "             ('Reality-TV', 2)])"
      ]
     },
     "execution_count": 13,
     "metadata": {},
     "output_type": "execute_result"
    }
   ],
   "source": [
    "g_and_count"
   ]
  },
  {
   "cell_type": "code",
   "execution_count": 14,
   "id": "rough-transcription",
   "metadata": {},
   "outputs": [
    {
     "data": {
      "text/plain": [
       "16845"
      ]
     },
     "execution_count": 14,
     "metadata": {},
     "output_type": "execute_result"
    }
   ],
   "source": [
    "sum(g_and_count.values())"
   ]
  },
  {
   "cell_type": "code",
   "execution_count": 15,
   "id": "everyday-costa",
   "metadata": {},
   "outputs": [],
   "source": [
    "def drop_genre_by_count(gc_dict, df, t_hold, inpl = False):\n",
    "    if inpl == True:\n",
    "        df.drop([g for g in gc_dict if gc_dict[g] < t_hold], axis=1, inplace=True)\n",
    "    else:\n",
    "        return df.drop([g for g in gc_dict if gc_dict[g] < t_hold], axis=1, inplace=False)"
   ]
  },
  {
   "cell_type": "code",
   "execution_count": 16,
   "id": "whole-period",
   "metadata": {},
   "outputs": [
    {
     "data": {
      "text/plain": [
       "Index(['Id', 'Genre', 'Action', 'Adventure', 'Animation', 'Biography',\n",
       "       'Comedy', 'Crime', 'Documentary', 'Drama', 'Family', 'Fantasy',\n",
       "       'History', 'Horror', 'Music', 'Musical', 'Mystery', 'N/A', 'News',\n",
       "       'Reality-TV', 'Romance', 'Sci-Fi', 'Short', 'Sport', 'Thriller', 'War',\n",
       "       'Western'],\n",
       "      dtype='object')"
      ]
     },
     "execution_count": 16,
     "metadata": {},
     "output_type": "execute_result"
    }
   ],
   "source": [
    "df.columns"
   ]
  },
  {
   "cell_type": "code",
   "execution_count": 17,
   "id": "killing-throw",
   "metadata": {},
   "outputs": [
    {
     "data": {
      "text/plain": [
       "Index(['Id', 'Genre', 'Action', 'Adventure', 'Animation', 'Biography',\n",
       "       'Comedy', 'Crime', 'Documentary', 'Drama', 'Family', 'Fantasy',\n",
       "       'History', 'Horror', 'Music', 'Musical', 'Mystery', 'News', 'Romance',\n",
       "       'Sci-Fi', 'Short', 'Sport', 'Thriller', 'War', 'Western'],\n",
       "      dtype='object')"
      ]
     },
     "execution_count": 17,
     "metadata": {},
     "output_type": "execute_result"
    }
   ],
   "source": [
    "drop_genre_by_count(g_and_count, df, 10, True)\n",
    "df.columns"
   ]
  },
  {
   "cell_type": "code",
   "execution_count": 18,
   "id": "metropolitan-phase",
   "metadata": {},
   "outputs": [
    {
     "data": {
      "text/plain": [
       "25"
      ]
     },
     "execution_count": 18,
     "metadata": {},
     "output_type": "execute_result"
    }
   ],
   "source": [
    "len(df.columns)"
   ]
  },
  {
   "cell_type": "markdown",
   "id": "communist-drawing",
   "metadata": {},
   "source": [
    "### Check for movies without genres"
   ]
  },
  {
   "cell_type": "code",
   "execution_count": 19,
   "id": "large-stuart",
   "metadata": {},
   "outputs": [
    {
     "data": {
      "text/plain": [
       "(9, 25)"
      ]
     },
     "execution_count": 19,
     "metadata": {},
     "output_type": "execute_result"
    }
   ],
   "source": [
    "np.shape(df[df[\"Genre\"].map(lambda lst: lst == \"['N/A']\")])"
   ]
  },
  {
   "cell_type": "code",
   "execution_count": 20,
   "id": "determined-august",
   "metadata": {},
   "outputs": [],
   "source": [
    "features2 = list(\n",
    "    set(df.columns)\n",
    "    - {\n",
    "        \"Id\",\n",
    "        \"Genre\",\n",
    "    }\n",
    ")"
   ]
  },
  {
   "cell_type": "code",
   "execution_count": 21,
   "id": "cultural-roommate",
   "metadata": {},
   "outputs": [],
   "source": [
    "null_genres_ix = [i for i in range(len(df)) if sum(np.array(df[features2].iloc[[i]])[0]) == 0]"
   ]
  },
  {
   "cell_type": "code",
   "execution_count": 22,
   "id": "photographic-swimming",
   "metadata": {},
   "outputs": [
    {
     "data": {
      "text/plain": [
       "[3300, 3308, 3526, 3777, 4023, 4628, 4862, 5166, 6859, 7181]"
      ]
     },
     "execution_count": 22,
     "metadata": {},
     "output_type": "execute_result"
    }
   ],
   "source": [
    "null_genres_ix"
   ]
  },
  {
   "cell_type": "code",
   "execution_count": 23,
   "id": "corresponding-harvey",
   "metadata": {},
   "outputs": [
    {
     "data": {
      "text/html": [
       "<div>\n",
       "<style scoped>\n",
       "    .dataframe tbody tr th:only-of-type {\n",
       "        vertical-align: middle;\n",
       "    }\n",
       "\n",
       "    .dataframe tbody tr th {\n",
       "        vertical-align: top;\n",
       "    }\n",
       "\n",
       "    .dataframe thead th {\n",
       "        text-align: right;\n",
       "    }\n",
       "</style>\n",
       "<table border=\"1\" class=\"dataframe\">\n",
       "  <thead>\n",
       "    <tr style=\"text-align: right;\">\n",
       "      <th></th>\n",
       "      <th>Id</th>\n",
       "      <th>Genre</th>\n",
       "      <th>Action</th>\n",
       "      <th>Adventure</th>\n",
       "      <th>Animation</th>\n",
       "      <th>Biography</th>\n",
       "      <th>Comedy</th>\n",
       "      <th>Crime</th>\n",
       "      <th>Documentary</th>\n",
       "      <th>Drama</th>\n",
       "      <th>...</th>\n",
       "      <th>Musical</th>\n",
       "      <th>Mystery</th>\n",
       "      <th>News</th>\n",
       "      <th>Romance</th>\n",
       "      <th>Sci-Fi</th>\n",
       "      <th>Short</th>\n",
       "      <th>Sport</th>\n",
       "      <th>Thriller</th>\n",
       "      <th>War</th>\n",
       "      <th>Western</th>\n",
       "    </tr>\n",
       "  </thead>\n",
       "  <tbody>\n",
       "    <tr>\n",
       "      <th>3304</th>\n",
       "      <td>tt0116748</td>\n",
       "      <td>['N/A']</td>\n",
       "      <td>0</td>\n",
       "      <td>0</td>\n",
       "      <td>0</td>\n",
       "      <td>0</td>\n",
       "      <td>0</td>\n",
       "      <td>0</td>\n",
       "      <td>0</td>\n",
       "      <td>0</td>\n",
       "      <td>...</td>\n",
       "      <td>0</td>\n",
       "      <td>0</td>\n",
       "      <td>0</td>\n",
       "      <td>0</td>\n",
       "      <td>0</td>\n",
       "      <td>0</td>\n",
       "      <td>0</td>\n",
       "      <td>0</td>\n",
       "      <td>0</td>\n",
       "      <td>0</td>\n",
       "    </tr>\n",
       "    <tr>\n",
       "      <th>3312</th>\n",
       "      <td>tt0289456</td>\n",
       "      <td>['N/A']</td>\n",
       "      <td>0</td>\n",
       "      <td>0</td>\n",
       "      <td>0</td>\n",
       "      <td>0</td>\n",
       "      <td>0</td>\n",
       "      <td>0</td>\n",
       "      <td>0</td>\n",
       "      <td>0</td>\n",
       "      <td>...</td>\n",
       "      <td>0</td>\n",
       "      <td>0</td>\n",
       "      <td>0</td>\n",
       "      <td>0</td>\n",
       "      <td>0</td>\n",
       "      <td>0</td>\n",
       "      <td>0</td>\n",
       "      <td>0</td>\n",
       "      <td>0</td>\n",
       "      <td>0</td>\n",
       "    </tr>\n",
       "    <tr>\n",
       "      <th>3531</th>\n",
       "      <td>tt0282965</td>\n",
       "      <td>['N/A']</td>\n",
       "      <td>0</td>\n",
       "      <td>0</td>\n",
       "      <td>0</td>\n",
       "      <td>0</td>\n",
       "      <td>0</td>\n",
       "      <td>0</td>\n",
       "      <td>0</td>\n",
       "      <td>0</td>\n",
       "      <td>...</td>\n",
       "      <td>0</td>\n",
       "      <td>0</td>\n",
       "      <td>0</td>\n",
       "      <td>0</td>\n",
       "      <td>0</td>\n",
       "      <td>0</td>\n",
       "      <td>0</td>\n",
       "      <td>0</td>\n",
       "      <td>0</td>\n",
       "      <td>0</td>\n",
       "    </tr>\n",
       "    <tr>\n",
       "      <th>3783</th>\n",
       "      <td>tt0322650</td>\n",
       "      <td>['N/A']</td>\n",
       "      <td>0</td>\n",
       "      <td>0</td>\n",
       "      <td>0</td>\n",
       "      <td>0</td>\n",
       "      <td>0</td>\n",
       "      <td>0</td>\n",
       "      <td>0</td>\n",
       "      <td>0</td>\n",
       "      <td>...</td>\n",
       "      <td>0</td>\n",
       "      <td>0</td>\n",
       "      <td>0</td>\n",
       "      <td>0</td>\n",
       "      <td>0</td>\n",
       "      <td>0</td>\n",
       "      <td>0</td>\n",
       "      <td>0</td>\n",
       "      <td>0</td>\n",
       "      <td>0</td>\n",
       "    </tr>\n",
       "    <tr>\n",
       "      <th>4029</th>\n",
       "      <td>tt0402398</td>\n",
       "      <td>['N/A']</td>\n",
       "      <td>0</td>\n",
       "      <td>0</td>\n",
       "      <td>0</td>\n",
       "      <td>0</td>\n",
       "      <td>0</td>\n",
       "      <td>0</td>\n",
       "      <td>0</td>\n",
       "      <td>0</td>\n",
       "      <td>...</td>\n",
       "      <td>0</td>\n",
       "      <td>0</td>\n",
       "      <td>0</td>\n",
       "      <td>0</td>\n",
       "      <td>0</td>\n",
       "      <td>0</td>\n",
       "      <td>0</td>\n",
       "      <td>0</td>\n",
       "      <td>0</td>\n",
       "      <td>0</td>\n",
       "    </tr>\n",
       "    <tr>\n",
       "      <th>4635</th>\n",
       "      <td>tt0468580</td>\n",
       "      <td>['N/A']</td>\n",
       "      <td>0</td>\n",
       "      <td>0</td>\n",
       "      <td>0</td>\n",
       "      <td>0</td>\n",
       "      <td>0</td>\n",
       "      <td>0</td>\n",
       "      <td>0</td>\n",
       "      <td>0</td>\n",
       "      <td>...</td>\n",
       "      <td>0</td>\n",
       "      <td>0</td>\n",
       "      <td>0</td>\n",
       "      <td>0</td>\n",
       "      <td>0</td>\n",
       "      <td>0</td>\n",
       "      <td>0</td>\n",
       "      <td>0</td>\n",
       "      <td>0</td>\n",
       "      <td>0</td>\n",
       "    </tr>\n",
       "    <tr>\n",
       "      <th>4870</th>\n",
       "      <td>tt2546300</td>\n",
       "      <td>['N/A']</td>\n",
       "      <td>0</td>\n",
       "      <td>0</td>\n",
       "      <td>0</td>\n",
       "      <td>0</td>\n",
       "      <td>0</td>\n",
       "      <td>0</td>\n",
       "      <td>0</td>\n",
       "      <td>0</td>\n",
       "      <td>...</td>\n",
       "      <td>0</td>\n",
       "      <td>0</td>\n",
       "      <td>0</td>\n",
       "      <td>0</td>\n",
       "      <td>0</td>\n",
       "      <td>0</td>\n",
       "      <td>0</td>\n",
       "      <td>0</td>\n",
       "      <td>0</td>\n",
       "      <td>0</td>\n",
       "    </tr>\n",
       "    <tr>\n",
       "      <th>5174</th>\n",
       "      <td>tt2546294</td>\n",
       "      <td>['N/A']</td>\n",
       "      <td>0</td>\n",
       "      <td>0</td>\n",
       "      <td>0</td>\n",
       "      <td>0</td>\n",
       "      <td>0</td>\n",
       "      <td>0</td>\n",
       "      <td>0</td>\n",
       "      <td>0</td>\n",
       "      <td>...</td>\n",
       "      <td>0</td>\n",
       "      <td>0</td>\n",
       "      <td>0</td>\n",
       "      <td>0</td>\n",
       "      <td>0</td>\n",
       "      <td>0</td>\n",
       "      <td>0</td>\n",
       "      <td>0</td>\n",
       "      <td>0</td>\n",
       "      <td>0</td>\n",
       "    </tr>\n",
       "    <tr>\n",
       "      <th>6870</th>\n",
       "      <td>tt2884170</td>\n",
       "      <td>['Reality-TV']</td>\n",
       "      <td>0</td>\n",
       "      <td>0</td>\n",
       "      <td>0</td>\n",
       "      <td>0</td>\n",
       "      <td>0</td>\n",
       "      <td>0</td>\n",
       "      <td>0</td>\n",
       "      <td>0</td>\n",
       "      <td>...</td>\n",
       "      <td>0</td>\n",
       "      <td>0</td>\n",
       "      <td>0</td>\n",
       "      <td>0</td>\n",
       "      <td>0</td>\n",
       "      <td>0</td>\n",
       "      <td>0</td>\n",
       "      <td>0</td>\n",
       "      <td>0</td>\n",
       "      <td>0</td>\n",
       "    </tr>\n",
       "    <tr>\n",
       "      <th>7192</th>\n",
       "      <td>tt3521442</td>\n",
       "      <td>['N/A']</td>\n",
       "      <td>0</td>\n",
       "      <td>0</td>\n",
       "      <td>0</td>\n",
       "      <td>0</td>\n",
       "      <td>0</td>\n",
       "      <td>0</td>\n",
       "      <td>0</td>\n",
       "      <td>0</td>\n",
       "      <td>...</td>\n",
       "      <td>0</td>\n",
       "      <td>0</td>\n",
       "      <td>0</td>\n",
       "      <td>0</td>\n",
       "      <td>0</td>\n",
       "      <td>0</td>\n",
       "      <td>0</td>\n",
       "      <td>0</td>\n",
       "      <td>0</td>\n",
       "      <td>0</td>\n",
       "    </tr>\n",
       "  </tbody>\n",
       "</table>\n",
       "<p>10 rows × 25 columns</p>\n",
       "</div>"
      ],
      "text/plain": [
       "             Id           Genre  Action  Adventure  Animation  Biography  \\\n",
       "3304  tt0116748         ['N/A']       0          0          0          0   \n",
       "3312  tt0289456         ['N/A']       0          0          0          0   \n",
       "3531  tt0282965         ['N/A']       0          0          0          0   \n",
       "3783  tt0322650         ['N/A']       0          0          0          0   \n",
       "4029  tt0402398         ['N/A']       0          0          0          0   \n",
       "4635  tt0468580         ['N/A']       0          0          0          0   \n",
       "4870  tt2546300         ['N/A']       0          0          0          0   \n",
       "5174  tt2546294         ['N/A']       0          0          0          0   \n",
       "6870  tt2884170  ['Reality-TV']       0          0          0          0   \n",
       "7192  tt3521442         ['N/A']       0          0          0          0   \n",
       "\n",
       "      Comedy  Crime  Documentary  Drama  ...  Musical  Mystery  News  Romance  \\\n",
       "3304       0      0            0      0  ...        0        0     0        0   \n",
       "3312       0      0            0      0  ...        0        0     0        0   \n",
       "3531       0      0            0      0  ...        0        0     0        0   \n",
       "3783       0      0            0      0  ...        0        0     0        0   \n",
       "4029       0      0            0      0  ...        0        0     0        0   \n",
       "4635       0      0            0      0  ...        0        0     0        0   \n",
       "4870       0      0            0      0  ...        0        0     0        0   \n",
       "5174       0      0            0      0  ...        0        0     0        0   \n",
       "6870       0      0            0      0  ...        0        0     0        0   \n",
       "7192       0      0            0      0  ...        0        0     0        0   \n",
       "\n",
       "      Sci-Fi  Short  Sport  Thriller  War  Western  \n",
       "3304       0      0      0         0    0        0  \n",
       "3312       0      0      0         0    0        0  \n",
       "3531       0      0      0         0    0        0  \n",
       "3783       0      0      0         0    0        0  \n",
       "4029       0      0      0         0    0        0  \n",
       "4635       0      0      0         0    0        0  \n",
       "4870       0      0      0         0    0        0  \n",
       "5174       0      0      0         0    0        0  \n",
       "6870       0      0      0         0    0        0  \n",
       "7192       0      0      0         0    0        0  \n",
       "\n",
       "[10 rows x 25 columns]"
      ]
     },
     "execution_count": 23,
     "metadata": {},
     "output_type": "execute_result"
    }
   ],
   "source": [
    "df.iloc[null_genres_ix]"
   ]
  },
  {
   "cell_type": "markdown",
   "id": "approved-strike",
   "metadata": {},
   "source": [
    "Drop them"
   ]
  },
  {
   "cell_type": "code",
   "execution_count": 24,
   "id": "united-driving",
   "metadata": {},
   "outputs": [],
   "source": [
    "df.drop(df.index[null_genres_ix], inplace = True)"
   ]
  },
  {
   "cell_type": "code",
   "execution_count": 25,
   "id": "statewide-observation",
   "metadata": {},
   "outputs": [
    {
     "data": {
      "text/plain": [
       "(7232, 25)"
      ]
     },
     "execution_count": 25,
     "metadata": {},
     "output_type": "execute_result"
    }
   ],
   "source": [
    "np.shape(df)"
   ]
  },
  {
   "cell_type": "code",
   "execution_count": 26,
   "id": "communist-easter",
   "metadata": {},
   "outputs": [
    {
     "name": "stdout",
     "output_type": "stream",
     "text": [
      "<class 'pandas.core.frame.DataFrame'>\n",
      "Int64Index: 7232 entries, 0 to 7253\n",
      "Data columns (total 25 columns):\n",
      " #   Column       Non-Null Count  Dtype \n",
      "---  ------       --------------  ----- \n",
      " 0   Id           7232 non-null   object\n",
      " 1   Genre        7232 non-null   object\n",
      " 2   Action       7232 non-null   int64 \n",
      " 3   Adventure    7232 non-null   int64 \n",
      " 4   Animation    7232 non-null   int64 \n",
      " 5   Biography    7232 non-null   int64 \n",
      " 6   Comedy       7232 non-null   int64 \n",
      " 7   Crime        7232 non-null   int64 \n",
      " 8   Documentary  7232 non-null   int64 \n",
      " 9   Drama        7232 non-null   int64 \n",
      " 10  Family       7232 non-null   int64 \n",
      " 11  Fantasy      7232 non-null   int64 \n",
      " 12  History      7232 non-null   int64 \n",
      " 13  Horror       7232 non-null   int64 \n",
      " 14  Music        7232 non-null   int64 \n",
      " 15  Musical      7232 non-null   int64 \n",
      " 16  Mystery      7232 non-null   int64 \n",
      " 17  News         7232 non-null   int64 \n",
      " 18  Romance      7232 non-null   int64 \n",
      " 19  Sci-Fi       7232 non-null   int64 \n",
      " 20  Short        7232 non-null   int64 \n",
      " 21  Sport        7232 non-null   int64 \n",
      " 22  Thriller     7232 non-null   int64 \n",
      " 23  War          7232 non-null   int64 \n",
      " 24  Western      7232 non-null   int64 \n",
      "dtypes: int64(23), object(2)\n",
      "memory usage: 1.4+ MB\n"
     ]
    }
   ],
   "source": [
    "df.info()"
   ]
  },
  {
   "cell_type": "markdown",
   "id": "revised-reaction",
   "metadata": {},
   "source": [
    "### Check for non-numerical values in the id columns"
   ]
  },
  {
   "cell_type": "code",
   "execution_count": 27,
   "id": "danish-pennsylvania",
   "metadata": {},
   "outputs": [
    {
     "data": {
      "text/html": [
       "<div>\n",
       "<style scoped>\n",
       "    .dataframe tbody tr th:only-of-type {\n",
       "        vertical-align: middle;\n",
       "    }\n",
       "\n",
       "    .dataframe tbody tr th {\n",
       "        vertical-align: top;\n",
       "    }\n",
       "\n",
       "    .dataframe thead th {\n",
       "        text-align: right;\n",
       "    }\n",
       "</style>\n",
       "<table border=\"1\" class=\"dataframe\">\n",
       "  <thead>\n",
       "    <tr style=\"text-align: right;\">\n",
       "      <th></th>\n",
       "      <th>Id</th>\n",
       "      <th>Genre</th>\n",
       "      <th>Action</th>\n",
       "      <th>Adventure</th>\n",
       "      <th>Animation</th>\n",
       "      <th>Biography</th>\n",
       "      <th>Comedy</th>\n",
       "      <th>Crime</th>\n",
       "      <th>Documentary</th>\n",
       "      <th>Drama</th>\n",
       "      <th>...</th>\n",
       "      <th>Musical</th>\n",
       "      <th>Mystery</th>\n",
       "      <th>News</th>\n",
       "      <th>Romance</th>\n",
       "      <th>Sci-Fi</th>\n",
       "      <th>Short</th>\n",
       "      <th>Sport</th>\n",
       "      <th>Thriller</th>\n",
       "      <th>War</th>\n",
       "      <th>Western</th>\n",
       "    </tr>\n",
       "  </thead>\n",
       "  <tbody>\n",
       "  </tbody>\n",
       "</table>\n",
       "<p>0 rows × 25 columns</p>\n",
       "</div>"
      ],
      "text/plain": [
       "Empty DataFrame\n",
       "Columns: [Id, Genre, Action, Adventure, Animation, Biography, Comedy, Crime, Documentary, Drama, Family, Fantasy, History, Horror, Music, Musical, Mystery, News, Romance, Sci-Fi, Short, Sport, Thriller, War, Western]\n",
       "Index: []\n",
       "\n",
       "[0 rows x 25 columns]"
      ]
     },
     "execution_count": 27,
     "metadata": {},
     "output_type": "execute_result"
    }
   ],
   "source": [
    "df[df[\"Id\"].map(lambda i: not i[2:].isnumeric())]"
   ]
  },
  {
   "cell_type": "markdown",
   "id": "congressional-spelling",
   "metadata": {},
   "source": [
    "### Count of movies by genre "
   ]
  },
  {
   "cell_type": "code",
   "execution_count": 28,
   "id": "delayed-advertiser",
   "metadata": {},
   "outputs": [],
   "source": [
    "g_and_count = get_features_and_count(features2,df)"
   ]
  },
  {
   "cell_type": "code",
   "execution_count": 32,
   "id": "injured-intermediate",
   "metadata": {},
   "outputs": [
    {
     "name": "stderr",
     "output_type": "stream",
     "text": [
      "F:\\anaconda3\\envs\\crp3\\lib\\site-packages\\seaborn\\_decorators.py:43: FutureWarning: Pass the following variables as keyword args: x, y. From version 0.12, the only valid positional argument will be `data`, and passing other arguments without an explicit keyword will result in an error or misinterpretation.\n",
      "  FutureWarning\n"
     ]
    },
    {
     "data": {
      "image/png": "[encoded data removed]",
      "text/plain": [
       "<Figure size 1584x1152 with 1 Axes>"
      ]
     },
     "metadata": {
      "needs_background": "light"
     },
     "output_type": "display_data"
    }
   ],
   "source": [
    "plt.figure(figsize=(22, 16))\n",
    "pd = sns.barplot(list(g_and_count.keys()), list(g_and_count.values()), palette=(\"muted\"))\n",
    "pd.set_title(\"Genre Distribution(Bar)\", fontsize=18)\n",
    "plt.savefig('../visualisation/genre_distr_bar.png')"
   ]
  },
  {
   "cell_type": "code",
   "execution_count": 33,
   "id": "reliable-venezuela",
   "metadata": {},
   "outputs": [
    {
     "data": {
      "image/png": "[encoded data removed]",
      "text/plain": [
       "<Figure size 1584x1008 with 1 Axes>"
      ]
     },
     "metadata": {},
     "output_type": "display_data"
    }
   ],
   "source": [
    "plt.figure(figsize=(22, 14))\n",
    "plt.pie(list(g_and_count.values()), labels=list(g_and_count.keys()), autopct='%1.1f%%',\n",
    "        shadow=True, startangle=90)\n",
    "\n",
    "plt.title('Genre Distribution(Pie)', fontsize=15)\n",
    "plt.savefig('../visualisation/genre_distr_pie.png')"
   ]
  }
 ],
 "metadata": {
  "kernelspec": {
   "display_name": "crp3",
   "language": "python",
   "name": "crp3"
  },
  "language_info": {
   "codemirror_mode": {
    "name": "ipython",
    "version": 3
   },
   "file_extension": ".py",
   "mimetype": "text/x-python",
   "name": "python",
   "nbconvert_exporter": "python",
   "pygments_lexer": "ipython3",
   "version": "3.6.13"
  }
 },
 "nbformat": 4,
 "nbformat_minor": 5
}
